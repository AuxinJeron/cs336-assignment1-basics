{
 "cells": [
  {
   "cell_type": "code",
   "execution_count": 56,
   "id": "b55a3c06",
   "metadata": {},
   "outputs": [
    {
     "name": "stdout",
     "output_type": "stream",
     "text": [
      "Overwriting bpe_tokenizer.py\n"
     ]
    }
   ],
   "source": [
    "%%writefile bpe_tokenizer.py\n",
    "\n",
    "import json\n",
    "import ast\n",
    "import regex as re\n",
    "from typing import Iterator, Iterable\n",
    "from cs336_basics.train_bpe import train_bpe\n",
    "\n",
    "class Tokenizer:\n",
    "    def __init__(self, vocab, merges, special_tokens=None):\n",
    "        self.special_tokens = special_tokens if special_tokens else list()\n",
    "        self.special_tokens = sorted(self.special_tokens, key=len, reverse=True)\n",
    "        self.vocab = vocab\n",
    "        # NOTE: Assume the special tokens should be the same as the one included when we train BPE\n",
    "        # Add special tokens into the vocabulary\n",
    "        # for t in self.special_tokens:\n",
    "        #    self.vocab[len(self.vocab)] = t.encode(\"utf-8\")\n",
    "        self.bytes_to_index = {v : k for k, v in self.vocab.items()}\n",
    "        # Store the merges as rank map to quickly figure out what's the rank for one merge\n",
    "        self.merges_rank = {merges[i] : i for i in range(len(merges))}\n",
    "        \n",
    "    @classmethod\n",
    "    def from_files(cls, vocab_filepath, merges_filepath, special_tokens=None):\n",
    "        assert vocab_filepath == merges_filepath, \"The current implementation assume the vocab and merges are stored in the same path\"\n",
    "        with open(vocab_filepath, 'r') as f:\n",
    "            data = json.load(f)\n",
    "        \n",
    "        vocab = {int(k): ast.literal_eval(v) for k, v in data['vocab'].items()}\n",
    "        merges = [tuple(ast.literal_eval(x) for x in pair) for pair in data['merges']]\n",
    "        \n",
    "        return cls(vocab, merges, special_tokens)\n",
    "\n",
    "    def encode_ordinary_text(self, text: str) -> list[int]:\n",
    "        PAT = r\"\"\"'(?:[sdmt]|ll|ve|re)| ?\\p{L}+| ?\\p{N}+| ?[^\\s\\p{L}\\p{N}]+|\\s+(?!\\S)|\\s+\"\"\"\n",
    "        pre_tokens = re.findall(PAT, text)\n",
    "        \n",
    "        result = list()\n",
    "        for pre_token in pre_tokens:\n",
    "            # NOTE: Encoding the string first then transfer to the list of bytes,\n",
    "            # other once one item in the seq may include multiple bytes\n",
    "            seq = [bytes([b]) for b in pre_token.encode(\"utf-8\")]\n",
    "            # merge the pretokens based on the trained merges\n",
    "            while True:\n",
    "                # Find the best rank of pair to merge \n",
    "                best_rank, best_pos = float('inf'), None\n",
    "                for i in range(len(seq) - 1):\n",
    "                    rank = self.merges_rank.get((seq[i], seq[i + 1]), float('inf'))\n",
    "                    if rank < best_rank:\n",
    "                        best_rank, best_pos = rank, i\n",
    "                \n",
    "                if best_pos is None:\n",
    "                    break\n",
    "                else:\n",
    "                    seq = seq[:best_pos] + [seq[best_pos] + seq[best_pos + 1]] + seq[best_pos + 2:]\n",
    "                    \n",
    "            for b in seq:\n",
    "                result.append(self.bytes_to_index[b])\n",
    "        return result \n",
    "    \n",
    "    def encode(self, text: str) -> list[int]:\n",
    "        escaped_tokens = [re.escape(tok) for tok in self.special_tokens]\n",
    "        delimiter = \"|\".join(escaped_tokens)\n",
    "        parts = re.split(f\"({delimiter})\", text)\n",
    "        \n",
    "        result = list()\n",
    "        for p in parts:\n",
    "            if p in self.special_tokens:\n",
    "                result.append(self.bytes_to_index[p.encode(\"utf-8\")])\n",
    "            else:\n",
    "                result.extend(self.encode_ordinary_text(p))\n",
    "                \n",
    "        return result\n",
    "        \n",
    "    \n",
    "    def encode_iterable(self, iterable: Iterable[str]) -> Iterator[int]:\n",
    "        result = list()\n",
    "        \n",
    "        for text in iterable:\n",
    "            result += self.encode(text)\n",
    "        \n",
    "        return result\n",
    "    \n",
    "    def decode(self, ids: list[int]) -> str:\n",
    "        b = b\"\"\n",
    "        for i in ids:\n",
    "            b += self.vocab[i]\n",
    "        return b.decode(\"utf-8\", errors=\"replace\")"
   ]
  },
  {
   "cell_type": "code",
   "execution_count": 57,
   "id": "acbf4cc6",
   "metadata": {},
   "outputs": [],
   "source": [
    "import sys, os\n",
    "sys.path.insert(0, os.path.dirname(os.getcwd()))\n",
    "\n",
    "from cs336_basics.bpe_tokenizer import Tokenizer\n",
    "\n",
    "\n",
    "t = Tokenizer.from_files(\"./test_result.json\", \"./test_result.json\", \"|endoftext|\")"
   ]
  },
  {
   "cell_type": "code",
   "execution_count": 58,
   "id": "3b0b1df2",
   "metadata": {},
   "outputs": [
    {
     "data": {
      "text/plain": [
       "'Héllò hôw <|endoftext|><|endoftext|> are ü? 🙃<|endoftext|>'"
      ]
     },
     "metadata": {},
     "output_type": "display_data"
    }
   ],
   "source": [
    "res = t.encode(\"Héllò hôw <|endoftext|><|endoftext|> are ü? 🙃<|endoftext|>\")\n",
    "display(t.decode(res))"
   ]
  },
  {
   "cell_type": "code",
   "execution_count": null,
   "id": "70e810da",
   "metadata": {},
   "outputs": [],
   "source": []
  }
 ],
 "metadata": {
  "kernelspec": {
   "display_name": "conda_python3",
   "language": "python",
   "name": "conda_python3"
  },
  "language_info": {
   "codemirror_mode": {
    "name": "ipython",
    "version": 3
   },
   "file_extension": ".py",
   "mimetype": "text/x-python",
   "name": "python",
   "nbconvert_exporter": "python",
   "pygments_lexer": "ipython3",
   "version": "3.10.17"
  }
 },
 "nbformat": 4,
 "nbformat_minor": 5
}
